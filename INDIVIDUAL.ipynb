{
 "cells": [
  {
   "cell_type": "markdown",
   "id": "82b2aaa0",
   "metadata": {},
   "source": [
    "Our research aims to investigate the relationship between wellness, life satisfaction, and social connection. I may like to estimate population parameters, including the population mean and population standard deviation."
   ]
  },
  {
   "cell_type": "markdown",
   "id": "a1a45eff",
   "metadata": {},
   "source": [
    "## 1.Analyze variables “WELLNESS_life_satisfaction” and “DEMO_relationship_status” using hypothesis test"
   ]
  },
  {
   "cell_type": "markdown",
   "id": "e6b21c6f",
   "metadata": {},
   "source": [
    "I plan to explore variables “WELLNESS_life_satisfaction” and “DEMO_relationship_status”. I choose these two variables because they appear to be relevant to my research topic. I am going to use hypothesis test to analyze, which we learned it on week 05. The data of “DEMO_relationship_status” have four categories, which are “in a relationship”, “NA”, “single and not dating”, and “single and dating.” Divided the four categories into two groups —— “in a relationship” and “single.” “Single and not dating” and “single and dating” are divided into the group “single.” We do not need to consider “NA.”"
   ]
  },
  {
   "cell_type": "markdown",
   "id": "80fb2b23",
   "metadata": {},
   "source": [
    "We can use a bar plot to represent categorical data, as it provides a clear, concise, and easily interpretable way to present and compare different categories. "
   ]
  },
  {
   "cell_type": "code",
   "execution_count": 12,
   "id": "45baa106",
   "metadata": {},
   "outputs": [
    {
     "name": "stdout",
     "output_type": "stream",
     "text": [
      "                          count  mean       std  min   25%  50%   75%  max\n",
      "DEMO_relationship_status                                                  \n",
      "In a relationship           2.0   7.5  0.707107  7.0  7.25  7.5  7.75  8.0\n",
      "Single and dating           2.0   4.5  0.707107  4.0  4.25  4.5  4.75  5.0\n",
      "Single and not dating       1.0   6.0       NaN  6.0  6.00  6.0  6.00  6.0\n"
     ]
    },
    {
     "data": {
      "image/png": "[encoded data removed]",
      "text/plain": [
       "<Figure size 640x480 with 1 Axes>"
      ]
     },
     "metadata": {},
     "output_type": "display_data"
    }
   ],
   "source": [
    "import pandas as pd\n",
    "import seaborn as sns\n",
    "import matplotlib.pyplot as plt\n",
    "\n",
    "# Sample data to simulate the DataFrame\n",
    "data = {\n",
    "    'DEMO_relationship_status': ['In a relationship', 'Single and dating', 'Single and not dating', 'In a relationship', 'Single and dating'],\n",
    "    'WELLNESS_life_satisfaction': [7, 5, 6, 8, 4]\n",
    "}\n",
    "\n",
    "# Create DataFrame\n",
    "df = pd.DataFrame(data)\n",
    "\n",
    "# Remove rows with 'present but no response'\n",
    "connection_data = df[['DEMO_relationship_status', 'WELLNESS_life_satisfaction']].dropna()\n",
    "connection_data = connection_data[connection_data['DEMO_relationship_status'] != 'present but no response']\n",
    "\n",
    "# Replace relationship status values\n",
    "connection_data['Relationship_group'] = connection_data['DEMO_relationship_status'].replace({\n",
    "    'In a relationship': 'Have a relationship',\n",
    "    'Single and dating': 'Single',\n",
    "    'Single and not dating': 'Single'\n",
    "})\n",
    "\n",
    "# Statistics about outcome and predictor variable\n",
    "connection_stats = connection_data.groupby('DEMO_relationship_status')['WELLNESS_life_satisfaction'].describe()\n",
    "print(connection_stats)\n",
    "\n",
    "# Calculate means for bar plot\n",
    "connection_means = connection_data.groupby('Relationship_group')['WELLNESS_life_satisfaction'].mean().reset_index()\n",
    "\n",
    "# Bar plot\n",
    "sns.barplot(x='Relationship_group', y='WELLNESS_life_satisfaction', data=connection_means)\n",
    "plt.title('Average wellness by having a relationship')\n",
    "plt.ylabel('Mean wellness')\n",
    "plt.show()\n"
   ]
  },
  {
   "cell_type": "markdown",
   "id": "0a7ee792",
   "metadata": {},
   "source": [
    "H0: The mean of “WELLNESS_life_satisfaction” for people “in a relationship” is less than or equal to the mean of “single.”\n",
    "HA: The mean of “WELLNESS_life_satisfaction” for people “in a relationship” is bigger than the mean of “single.”"
   ]
  },
  {
   "cell_type": "markdown",
   "id": "c86b470d",
   "metadata": {},
   "source": [
    "Then calculate the p-value. If the p-value is less than 0.05, this means that H0 is not correct, and we have evidence to reject the null hypothesis."
   ]
  },
  {
   "cell_type": "markdown",
   "id": "ac3b66f8",
   "metadata": {},
   "source": [
    "This is relevant to our topic because whether in a relationship represents the person’s social connection. People in a relationship seem to have higher levels of life satisfaction and wellness."
   ]
  },
  {
   "cell_type": "markdown",
   "id": "0eded9db",
   "metadata": {},
   "source": [
    "## 2.Analyze variables “WELLNESS_life_satisfaction” and “CONNECTION_activities_group_video_chat_pm” using confidence interval (CI)"
   ]
  },
  {
   "cell_type": "markdown",
   "id": "aa19bfc3",
   "metadata": {},
   "source": [
    "I plan to explore variables” WELLNESS_life_satisfaction” and “CONNECTION_activities_group_video_chat_pm.”  I choose these two variables because they appear to be relevant to my research topic. I am going to use confidence interval (CI) to analyze, a concept we learned in Week 04. The data of “CONNECTION_activities_group_video_chat_pm” have three categories, which are “yes”, “NA”, and “no.” We do not need to consider “NA.” "
   ]
  },
  {
   "cell_type": "markdown",
   "id": "831f7340",
   "metadata": {},
   "source": [
    "Create two data sets. Set 1: the value of wellness that people have video group chat. Set 2: the value of wellness that people do not have a video group chat. \n",
    "By using bootstrap, we can have a new data set, which contains the difference of people have video group chat and people do not have video group chat (assuming the wellness of life satisfaction of people have video group chat is higher than people who do not have). "
   ]
  },
  {
   "cell_type": "markdown",
   "id": "9bf60e79",
   "metadata": {},
   "source": [
    "After this, we can calculate the CI according to the formula: CI= (the mean of X) ± (Z*·SE). For a normal distribution, Z* is approximately 1.96 for a 95% confidence level. SE is the standard error of the sample mean, calculated ass/√n where s is the sample standard deviation and n is the sample size.\n",
    "After getting the CI, determine if 0 is in this interval. If not, this means that our assumption is correct; individuals who engage in video group chats have higher wellness levels than those who do not. If 0 is within this interval, it indicates that there is no significant difference in the wellness or life satisfaction of people whether they have a group chat or not."
   ]
  },
  {
   "cell_type": "markdown",
   "id": "536d77aa",
   "metadata": {},
   "source": [
    "We can also use a bar plot to represent the previous two data sets and compare their means.\n",
    "This is relevant to our topic because having a group chat can indicate the person's level of social engagement. People who participate in group chats seem to have a higher level of wellness and life satisfaction compared to those who do not. "
   ]
  },
  {
   "cell_type": "markdown",
   "id": "e8f49434",
   "metadata": {},
   "source": [
    "## 3.Analyze variables “ WELLNESS_life_satisfaction”, “PSYCH_zimet_multidimensional_social_support_family_subscale_score”, and “PSYCH_zimet_multidimensional_social_support_friends_subscale_score” by using linear regression"
   ]
  },
  {
   "cell_type": "markdown",
   "id": "cafa715b",
   "metadata": {},
   "source": [
    "I plan to find out the relationship between the variable “WELLNESS_life_satisfaction” and “PSYCH_zimet_multidimensional_social_support_family_subscale_score” and “PSYCH_zimet_multidimensional_social_support_friends_subscale_score.” I choose these two variables because they appear to be relevant to my research topic. I’m going to use linear regression to analyze, which we learn at week 07. Drop all the missing values."
   ]
  },
  {
   "cell_type": "markdown",
   "id": "4aa045aa",
   "metadata": {},
   "source": [
    "Linear regression is a statistical method used to model the relationship between two (or more) variables by fitting a linear equation to observed data.\n",
    "Dependent Variable (Y): WELLNESS_life_satisfaction\n",
    "Independent Variable (X): PSYCH_zimet_multidimensional_social_support_family_subscale_score (X1)\n",
    "PSYCH_zimet_multidimensional_social_support_friends_subscale_score (X2)\n",
    "\n",
    "The equation for a multiple linear regression model is: Y = β0 +β1X1+ β2X2+ϵ\n",
    "β0: Intercept (value of Y when X = 0)\n",
    "β1β2: coefficients for each independent variable, showing the effect each has on the WELLNESS_life_satisfaction\n",
    "ϵ: Error term, representing the difference between observed and predicted values."
   ]
  },
  {
   "cell_type": "markdown",
   "id": "327e5d33",
   "metadata": {},
   "source": [
    "The goal of linear regression is to find the best-fitting line that minimizes the differences between the observed data points and the values predicted by the line. This is often done using least squares estimation, which minimizes the sum of the squared residuals.\n",
    "\n",
    "Using a statistic model to draw a graph. Assuming the value of WELLNESS_life_satisfaction will increase as the value of PSYCH_zimet_multidimensional_social_support_family_subscale_score, and PSYCH_zimet_multidimensional_social_support_friends_subscale_score increases, then the β1β2 are positive."
   ]
  },
  {
   "cell_type": "markdown",
   "id": "8598cce8",
   "metadata": {},
   "source": [
    "This is relevant to our topic because family support and friends support represent a person’s social connection with family and friends. People who have a higher level of support from family and friends tend to have a higher level of satisfaction with their overall wellness."
   ]
  },
  {
   "cell_type": "markdown",
   "id": "7747ae6d",
   "metadata": {},
   "source": [
    "### I want to be teammates with Zhaotong Pan and Hazel Ma. We are from the same country, which makes it easier for us to communicate as English is our second language. Thank you!"
   ]
  }
 ],
 "metadata": {
  "kernelspec": {
   "display_name": "Python 3 (ipykernel)",
   "language": "python",
   "name": "python3"
  },
  "language_info": {
   "codemirror_mode": {
    "name": "ipython",
    "version": 3
   },
   "file_extension": ".py",
   "mimetype": "text/x-python",
   "name": "python",
   "nbconvert_exporter": "python",
   "pygments_lexer": "ipython3",
   "version": "3.11.6"
  }
 },
 "nbformat": 4,
 "nbformat_minor": 5
}
