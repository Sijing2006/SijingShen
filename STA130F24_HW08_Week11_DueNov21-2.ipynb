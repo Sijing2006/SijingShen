{
 "cells": [
  {
   "cell_type": "markdown",
   "id": "8a29dab0",
   "metadata": {},
   "source": [
    "# STA130 Homework 08\n",
    "\n",
    "Please see the course [wiki-textbook](https://github.com/pointOfive/stat130chat130/wiki) for the list of topics covered in this homework assignment, and a list of topics that might appear during ChatBot conversations which are \"out of scope\" for the purposes of this homework assignment (and hence can be safely ignored if encountered)"
   ]
  },
  {
   "cell_type": "markdown",
   "id": "94eee301",
   "metadata": {},
   "source": [
    "<details class=\"details-example\"><summary style=\"color:blue\"><u>Introduction</u></summary>\n",
    "\n",
    "### Introduction\n",
    "    \n",
    "A reasonable characterization of STA130 Homework is that it simply defines a weekly reading comprehension assignment. \n",
    "Indeed, STA130 Homework essentially boils down to completing various understanding confirmation exercises oriented around coding and writing tasks.\n",
    "However, rather than reading a textbook, STA130 Homework is based on ChatBots so students can interactively follow up to clarify questions or confusion that they may still have regarding learning objective assignments.\n",
    "\n",
    "> Communication is a fundamental skill underlying statistics and data science, so STA130 Homework based on ChatBots helps practice effective two-way communication as part of a \"realistic\" dialogue activity supporting underlying conceptual understanding building. \n",
    "\n",
    "It will likely become increasingly tempting to rely on ChatBots to \"do the work for you\". But when you find yourself frustrated with a ChatBots inability to give you the results you're looking for, this is a \"hint\" that you've become overreliant on the ChatBots. Your objective should not be to have ChatBots \"do the work for you\", but to use ChatBots to help you build your understanding so you can efficiently leverage ChatBots (and other resources) to help you work more efficiently.<br><br>\n",
    "\n",
    "</details>\n",
    "\n",
    "<details class=\"details-example\"><summary style=\"color:blue\"><u>Instructions</u></summary>\n",
    "\n",
    "### Instructions\n",
    "    \n",
    "1. Code and write all your answers (for both the \"Pre-lecture\" and \"Post-lecture\" HW) in a python notebook (in code and markdown cells) \n",
    "    \n",
    "> It is *suggested but not mandatory* that you complete the \"Pre-lecture\" HW prior to the Monday LEC since (a) all HW is due at the same time; but, (b) completing some of the HW early will mean better readiness for LEC and less of a \"procrastentation cruch\" towards the end of the week...\n",
    "    \n",
    "2. Paste summaries of your ChatBot sessions (including link(s) to chat log histories if you're using ChatGPT) within your notebook\n",
    "    \n",
    "> Create summaries of your ChatBot sessions by using concluding prompts such as \"Please provide a summary of our exchanges here so I can submit them as a record of our interactions as part of a homework assignment\" or, \"Please provide me with the final working verson of the code that we created together\"\n",
    "    \n",
    "3. Save your python jupyter notebook in your own account and \"repo\" on [github.com](github.com) and submit a link to that notebook though Quercus for assignment marking<br><br>\n",
    "\n",
    "</details>\n",
    "\n",
    "<details class=\"details-example\"><summary style=\"color:blue\"><u>Prompt Engineering?</u></summary>\n",
    "    \n",
    "### Prompt Engineering? \n",
    "    \n",
    "The questions (as copy-pasted prompts) are designed to initialize appropriate ChatBot conversations which can be explored in the manner of an interactive and dynamic textbook; but, it is nonetheless **strongly recommendated** that your rephrase the questions in a way that you find natural to ensure a clear understanding of the question. Given sensible prompts the represent a question well, the two primary challenges observed to arise from ChatBots are \n",
    "\n",
    "1. conversations going beyond the intended scope of the material addressed by the question; and, \n",
    "2. unrecoverable confusion as a result of sequential layers logial inquiry that cannot be resolved. \n",
    "\n",
    "In the case of the former (1), adding constraints specifying the limits of considerations of interest tends to be helpful; whereas, the latter (2) is often the result of initial prompting that leads to poor developments in navigating the material, which are likely just best resolve by a \"hard reset\" with a new initial approach to prompting.  Indeed, this is exactly the behavior [hardcoded into copilot](https://answers.microsoft.com/en-us/bing/forum/all/is-this-even-normal/0b6dcab3-7d6c-4373-8efe-d74158af3c00)...\n",
    "\n",
    "</details>"
   ]
  },
  {
   "cell_type": "markdown",
   "id": "ffbc1200",
   "metadata": {},
   "source": [
    "### Marking Rubric (which may award partial credit)\n",
    "- [0.1 points]: All relevant ChatBot summaries [including link(s) to chat log histories if you're using ChatGPT] are reported within the notebook\n",
    "- [0.2 points]: Well-communicated and sensible answers for Question \"2\"\n",
    "- [0.2 points]: Correct code and well-communicated correct answer for Question \"4\" \n",
    "- [0.2 points]: Correct calculations for requested metrics in Question \"6\" \n",
    "- [0.3 points]: Correct and well-communicated explanation of differences for Question \"7\" \n",
    "<!-- - [0.1 points]: Written submission evaluation and enagement confirmation with ChatBot summaries for \"8\", \"10\"-->\n",
    "\n"
   ]
  },
  {
   "cell_type": "markdown",
   "id": "67686639",
   "metadata": {},
   "source": [
    "## \"Pre-lecture\" HW [*completion prior to next LEC is suggested but not mandatory*]"
   ]
  },
  {
   "cell_type": "markdown",
   "id": "54a53734",
   "metadata": {},
   "source": [
    "\n",
    "### 1. Start a ChatBot session to understand what a *Classification Decision Tree* is: (a) ask the ChatBot to describe the type of problem a *Classification Decision Tree* addresses and provide some examples of real-world applications where this might be particularly useful, and then (b) make sure you understand the difference between how a *Classification Decision Tree* makes *(classification) predictions* versus how *Multiple Linear Regression* makes *(regression) predictions*<br>\n",
    "\n",
    "<details class=\"details-example\"><summary style=\"color:blue\"><u>Further Guidance</u></summary>\n",
    "\n",
    "> _The first part (a) of this question is looking for you to understand the difference between **classification** and **regression**. The second part (b) of the questions is looking for a fairly high level understanding of the general nature of a decision tree and how it is based on making sequential decisions down the *nodes* of *tree* in order to eventually make a final prediction. This part (b) is essentially the **Classification Decision Tree** analog of \"explain how the **linear form** makes a prediciton in **Multiple Linear Regression** generally speaking\"; namely,\"explain how the **tree** makes a prediciton in a **Classification Decision Tree** generally speaking\"._\n",
    "> \n",
    "> _**If you're struggling with this, it would probably be most helpful to go search for and some images of example decision trees to look at!**_\n",
    "> \n",
    "> - _You may be beginning to realize or will nonetheless eventually come to understand that the sequential decisions at each stage of the **Decision Tree** are **interactions** (in the same manner as **interactions** in **Multiple Linear Regression**.  Once you start to see that and it's making sense to you then you'll increasingly appreciate how **complex** **Decision Tree** models can be, even though they're pretty simple to understand if you just look at one._\n",
    ">\n",
    "> ---\n",
    ">    \n",
    "> _When using chatbots, it's often more effective (and enjoyable) to ask concise, single questions rather than presenting complex, multi-part queries. This approach can help in obtaining clearer and more specific responses (that might be more enjoyable to interact with). You can always ask multi-part questions as a series of additional sequential questions. With this approach, chatbots may not automatically reiterate previously explained concepts. So if you need a refresher or further explanation on a topic discussed earlier, just explicitly request during follow-up interactions._\n",
    "> \n",
    "> ---\n",
    "> \n",
    "> _Don't forget to ask for summaries of all your different ChatBot sessions and organize and paste these into your homework notebook (including link(s) to chat log histories if you're using ChatBot); but, if you're using the STA130 custom NBLM ChatBot, you'll only be able to ask for summaries, of course!_ \n",
    "    \n",
    "</details>"
   ]
  },
  {
   "cell_type": "markdown",
   "id": "579956f2",
   "metadata": {},
   "source": [
    "# Q1: What type of problem does a Classification Decision Tree address? Can you provide some examples of real-world applications where it might be particularly useful?\n",
    "\n",
    "## ChatBot:\n",
    "A Classification Decision Tree addresses classification problems. These are problems where the goal is to assign a categorical label to an input based on its features. For example, given a set of characteristics about a person, the tree might predict their risk level for a disease (e.g., high, medium, or low) or whether they would buy a product (e.g., yes or no).\n",
    "\n",
    "## Real-World Applications:\n",
    "Medical Diagnosis: Classifying patients into risk categories based on symptoms, lab results, and medical history.\n",
    "Fraud Detection: Identifying whether a transaction is legitimate or fraudulent based on transaction patterns.\n",
    "Customer Segmentation: Classifying customers into different segments for targeted marketing (e.g., loyal customers vs. one-time buyers).\n",
    "Spam Email Filtering: Identifying whether an email is spam or not based on the email content and metadata.\n",
    "Loan Approval: Assessing whether a loan applicant should be approved or denied based on financial and demographic data."
   ]
  },
  {
   "cell_type": "markdown",
   "id": "552ff453",
   "metadata": {},
   "source": [
    "# Q2: How does a Classification Decision Tree make classification predictions, and how is that different from how Multiple Linear Regression makes regression predictions? \n",
    "\n",
    "## Classification Decision Tree:\n",
    "A Decision Tree divides the data into subsets by repeatedly splitting it based on feature values that best separate the classes.\n",
    "At each split (node), it evaluates the features to minimize impurity (e.g., Gini Index, entropy).\n",
    "Once the tree reaches a leaf node, the prediction is made based on the majority class (or probability) of the samples at that node.\n",
    "For example, if a leaf node contains 80% \"spam\" and 20% \"not spam,\" the tree would classify new data falling into this node as \"spam.\"\n",
    "## Multiple Linear Regression:\n",
    "Linear Regression models the relationship between one dependent variable (numerical) and one or more independent variables by fitting a straight line.\n",
    "Predictions are continuous numerical values based on the weighted sum of input features. For example, predicting a house price based on size, location, and number of rooms.\n",
    "Linear Regression cannot inherently classify categories; it provides a numerical estimate. For classification, thresholds or logistic regression is often used instead.\n",
    "## Key Differences:\n",
    "Output: Classification Decision Trees output categorical labels; Multiple Linear Regression outputs continuous values.\n",
    "Approach: Decision Trees use hierarchical splitting to classify; Linear Regression fits a mathematical function (linear equation) to predict values.\n",
    "Problem Type: Decision Trees are better for categorical outcomes; Linear Regression is for continuous outcomes."
   ]
  },
  {
   "cell_type": "markdown",
   "id": "6bbf97d1",
   "metadata": {},
   "source": [
    "### 2. Continue your ChatBot session and explore with your ChatBot what real-world application scenario(s) might be most appropriately addressed by each of the following *metrics* below: provide your answers and, in your own words, *concisely explain your rationale for your answers.*<br>\n",
    "\n",
    "\n",
    "1. **Accuracy** measures the proportion of true results (both true positives and true negatives) in the population.\n",
    "\n",
    "$$\\text{Accuracy} = \\frac{TP + TN}{TP + TN + FP + FN}$$\n",
    "    \n",
    "2. **Sensitivity** measures the proportion of actual positives that are correctly identified.\n",
    "\n",
    "$$\\text{Sensitivity} = \\frac{TP}{TP + FN}$$\n",
    "\n",
    "3. **Specificity** measures the proportion of actual negatives that are correctly identified.\n",
    "\n",
    "$$\\text{Specificity} = \\frac{TN}{TN + FP}$$\n",
    "\n",
    "4. **Precision** measures the proportion of positive identifications that were actually correct.\n",
    "\n",
    "$$\\text{Precision} = \\frac{TP}{TP + FP}$$\n",
    "\n",
    "<details class=\"details-example\"><summary style=\"color:blue\"><u>Further Guidance</u></summary>\n",
    "\n",
    "> _This question could be restated as, \"Give examples of real-world examples where each of these **metrics** would be particularly useful.\"_\n",
    ">\n",
    "> _The primary objective here is to understand the distinction between each of these **metrics**. The secondary objective is to notice how the nature of the decision-making that each of these **metrics** most naturally supports is very distinct, ideally based on identifying memorable examples that really distinguish between the **metrics**._\n",
    ">\n",
    "> - _Have a look at this (greatly expanded) handy list of additional metrics, formulas, and synonyms at the following [wikipedia page](https://en.wikipedia.org/wiki/Sensitivity_and_specificity) if you want this to get real crazy real fast._\n",
    ">    \n",
    "> ---\n",
    "> \n",
    "> _Don't forget to ask for summaries of all your different ChatBot sessions and organize and paste these into your homework notebook (including link(s) to chat log histories if you're using ChatBot); but, if you're using the STA130 custom NBLM ChatBot, you'll only be able to ask for summaries, of course!_ \n",
    "    \n",
    "</details>"
   ]
  },
  {
   "cell_type": "markdown",
   "id": "b3004994",
   "metadata": {},
   "source": [
    "## 1. Accuracy:\n",
    "definition:\n",
    "It calculates the percentage of accurate predictions, including both positive and negative outcomes, out of all predictions made.\n",
    "\n",
    "Example:\n",
    "Email spam filtering is used to prevent unwanted and unsolicited emails from reaching your inbox.\n",
    "A spam filter's goal is to categorize emails as either \"spam\" or \"not spam.\"\n",
    "Ensuring high accuracy helps in correctly categorizing most emails and reducing incorrect predictions, including both false positives and false negatives.\n",
    "Valuable in situations where both categories (spam and non-spam) hold equal significance and occur at a similar rate."
   ]
  },
  {
   "cell_type": "markdown",
   "id": "cf27607e",
   "metadata": {},
   "source": [
    "## 2. Sensitivity:\n",
    "Definition:\n",
    "Measures how accurately the model detects true positives (correctly identifying actual positives).\n",
    "\n",
    "Example:\n",
    "Diagnosing rare diseases in the field of medicine can be challenging.\n",
    "Detecting a rare and severe disease such as cancer requires a high level of sensitivity in order to reduce the occurrence of false negatives.\n",
    "It is important to avoid missing a true positive case, so it is better to have more false positives if needed to be cautious."
   ]
  },
  {
   "cell_type": "markdown",
   "id": "b60474f9",
   "metadata": {},
   "source": [
    "## 3. Specificity:\n",
    "Definition:\n",
    "Evaluates how accurately the model can identify true negative cases and avoid false positives.\n",
    "\n",
    "Example:\n",
    "Screening for conditions that are not life-threatening:\n",
    "When diagnosing a mild condition such as seasonal allergies, it is crucial to be specific in order to reduce the number of incorrect results.\n",
    "Misdiagnosing a person with allergies, when they don't actually have them, may result in unnecessary treatment or cause worry for the patient."
   ]
  },
  {
   "cell_type": "markdown",
   "id": "392f3be9",
   "metadata": {},
   "source": [
    "## 4. Precision:\n",
    "Definition:\n",
    "Assesses the accuracy of positive predictions by measuring the proportion of true positives.\n",
    "\n",
    "Example:\n",
    "Detecting fraud in financial transactions:\n",
    "Accuracy is essential to verify that transactions flagged as \"fraudulent\" are truly fraudulent.\n",
    "Having high precision can prevent wasting resources on investigating false positives, especially when flagged cases need to be reviewed manually."
   ]
  },
  {
   "cell_type": "markdown",
   "id": "8513a335",
   "metadata": {},
   "source": [
    "# Session Conclusion\n",
    "In this session, we explored two key topics related to machine learning:\n",
    "\n",
    "## Classification Decision Trees:\n",
    "These are used to solve classification problems by assigning categorical labels to inputs based on their features.\n",
    "They are particularly useful in applications like medical diagnosis, fraud detection, customer segmentation, and spam email filtering.\n",
    "The primary difference between a Classification Decision Tree and Multiple Linear Regression is in their outputs and problem domains: Decision Trees classify data into categories, while Linear Regression predicts continuous numerical values.\n",
    "## Performance Metrics in Classification:\n",
    "We discussed four metrics:\n",
    "Accuracy ensures the overall correctness of predictions and is ideal for balanced datasets.\n",
    "Sensitivity focuses on correctly identifying actual positives, critical for high-stakes fields like medical diagnostics.\n",
    "Specificity emphasizes correctly identifying negatives, important for avoiding unnecessary treatments or actions.\n",
    "Precision prioritizes reliable positive predictions, valuable in resource-intensive contexts like fraud detection.\n",
    "The session highlights the importance of selecting models and metrics based on the problem context, ensuring alignment with the goals and consequences of predictions."
   ]
  },
  {
   "cell_type": "markdown",
   "id": "de804d8f",
   "metadata": {},
   "source": [
    "https://chatgpt.com/share/673e7ca9-ea04-8009-a6f6-d89d08556888"
   ]
  },
  {
   "cell_type": "markdown",
   "id": "f58bd64b",
   "metadata": {},
   "source": [
    "### 3. Explore the amazon books dataset, seen previously at the start of the semester, providing some initital standard *exploratory data analysis (EDA)* and data summarization after pre-processing the dataset to meet the requirements below<br>\n",
    "\n",
    " 1. remove `Weight_oz`, `Width`, and `Height` \n",
    " 2. drop all remaining rows with `NaN` entries \n",
    " 3. set `Pub year` and `NumPages` to have the type `int`, and `Hard_or_Paper` to have the type `category`\n",
    "\n",
    "<details class=\"details-example\"><summary style=\"color:blue\"><u>Further Guidance</u></summary>\n",
    "\n",
    "> _`NaN` entries can't be used in their raw form with the `scikit-learn` methodologies, so we do need to remove them to proceed with our analyses._\n",
    ">     \n",
    "> _Only remove rows with `NaN` entries once you've subset to the columns you're interested in. This will minimize potentially unnecessary data loss..._\n",
    ">\n",
    "> _It would be possible to consider imputing missing data to further mitigate data loss, but the considerations for doing so are more advanced than the level of our course, so we'll not consider that for now._ \n",
    "\n",
    "</details>"
   ]
  },
  {
   "cell_type": "code",
   "execution_count": 8,
   "id": "e4b50624",
   "metadata": {},
   "outputs": [],
   "source": [
    "import pandas as pd\n",
    "import numpy as np\n",
    "from sklearn import tree\n",
    "from sklearn.model_selection import train_test_split\n",
    "from sklearn.metrics import confusion_matrix, ConfusionMatrixDisplay\n",
    "from sklearn.metrics import accuracy_score, recall_score, make_scorer\n",
    "import graphviz as gv\n",
    "\n",
    "url = \"https://raw.githubusercontent.com/pointOfive/STA130_F23/main/Data/amazonbooks.csv\"\n",
    "ab = pd.read_csv(url, encoding=\"ISO-8859-1\")\n",
    "# create `ab_reduced_noNaN` based on the specs above"
   ]
  },
  {
   "cell_type": "code",
   "execution_count": 9,
   "id": "290c866c",
   "metadata": {},
   "outputs": [
    {
     "name": "stdout",
     "output_type": "stream",
     "text": [
      "<class 'pandas.core.frame.DataFrame'>\n",
      "Index: 319 entries, 0 to 324\n",
      "Data columns (total 10 columns):\n",
      " #   Column         Non-Null Count  Dtype   \n",
      "---  ------         --------------  -----   \n",
      " 0   Title          319 non-null    object  \n",
      " 1   Author         319 non-null    object  \n",
      " 2   List Price     319 non-null    float64 \n",
      " 3   Amazon Price   319 non-null    float64 \n",
      " 4   Hard_or_Paper  319 non-null    category\n",
      " 5   NumPages       319 non-null    int64   \n",
      " 6   Publisher      319 non-null    object  \n",
      " 7   Pub year       319 non-null    int64   \n",
      " 8   ISBN-10        319 non-null    object  \n",
      " 9   Thick          319 non-null    float64 \n",
      "dtypes: category(1), float64(3), int64(2), object(4)\n",
      "memory usage: 25.4+ KB\n"
     ]
    },
    {
     "name": "stderr",
     "output_type": "stream",
     "text": [
      "/tmp/ipykernel_70/3543513680.py:15: SettingWithCopyWarning: \n",
      "A value is trying to be set on a copy of a slice from a DataFrame.\n",
      "Try using .loc[row_indexer,col_indexer] = value instead\n",
      "\n",
      "See the caveats in the documentation: https://pandas.pydata.org/pandas-docs/stable/user_guide/indexing.html#returning-a-view-versus-a-copy\n",
      "  ab_reduced_noNaN['Pub year'] = ab_reduced_noNaN['Pub year'].astype(int)\n",
      "/tmp/ipykernel_70/3543513680.py:16: SettingWithCopyWarning: \n",
      "A value is trying to be set on a copy of a slice from a DataFrame.\n",
      "Try using .loc[row_indexer,col_indexer] = value instead\n",
      "\n",
      "See the caveats in the documentation: https://pandas.pydata.org/pandas-docs/stable/user_guide/indexing.html#returning-a-view-versus-a-copy\n",
      "  ab_reduced_noNaN['NumPages'] = ab_reduced_noNaN['NumPages'].astype(int)\n",
      "/tmp/ipykernel_70/3543513680.py:17: SettingWithCopyWarning: \n",
      "A value is trying to be set on a copy of a slice from a DataFrame.\n",
      "Try using .loc[row_indexer,col_indexer] = value instead\n",
      "\n",
      "See the caveats in the documentation: https://pandas.pydata.org/pandas-docs/stable/user_guide/indexing.html#returning-a-view-versus-a-copy\n",
      "  ab_reduced_noNaN['Hard_or_Paper'] = ab_reduced_noNaN['Hard_or_Paper'].astype('category')\n"
     ]
    }
   ],
   "source": [
    "# Import necessary libraries\n",
    "import pandas as pd\n",
    "\n",
    "# Load the dataset from the given URL\n",
    "url = \"https://raw.githubusercontent.com/pointOfive/STA130_F23/main/Data/amazonbooks.csv\"\n",
    "ab = pd.read_csv(url, encoding=\"ISO-8859-1\")\n",
    "\n",
    "# Drop the specified columns: Weight_oz, Width, and Height\n",
    "ab_reduced = ab.drop(columns=['Weight_oz', 'Width', 'Height'])\n",
    "\n",
    "# Drop rows with NaN values after subsetting to the relevant columns\n",
    "ab_reduced_noNaN = ab_reduced.dropna()\n",
    "\n",
    "# Convert Pub year and NumPages to integers and Hard_or_Paper to a categorical type\n",
    "ab_reduced_noNaN['Pub year'] = ab_reduced_noNaN['Pub year'].astype(int)\n",
    "ab_reduced_noNaN['NumPages'] = ab_reduced_noNaN['NumPages'].astype(int)\n",
    "ab_reduced_noNaN['Hard_or_Paper'] = ab_reduced_noNaN['Hard_or_Paper'].astype('category')\n",
    "\n",
    "# Display the processed DataFrame's summary\n",
    "ab_reduced_noNaN.info()"
   ]
  },
  {
   "cell_type": "markdown",
   "id": "c225c340",
   "metadata": {},
   "source": [
    "### 4. Create an 80/20 split with 80% of the data as a training set *ab_reduced_noNaN_train* and 20% of the data testing set  *ab_reduced_noNaN_test* using either *df.sample(...)* as done in TUT or using *train_test_split(...)* as done in the previous HW, and report on how many observations there are in the training data set and the test data set.<br><br>Tell a ChatBot that you are about to fit a \"scikit-learn\" *DecisionTreeClassifier* model and ask what the two steps given below are doing; then use your ChatBots help to write code to \"train\" a classification tree *clf* using only the *List Price* variable to predict whether or not a book is a hard cover or paper back book using a *max_depth* of *2*; finally use *tree.plot_tree(clf)* to explain what *predictions* are made based on *List Price* for the fitted *clf* model\n",
    "\n",
    "```python\n",
    "y = pd.get_dummies(ab_reduced_noNaN[\"Hard_or_Paper\"])['H']\n",
    "X = ab_reduced_noNaN[['List Price']]\n",
    "```\n",
    "<details class=\"details-example\"><summary style=\"color:blue\"><u>Further Guidance</u></summary>\n",
    "\n",
    "> _To complete the final 80/20 split of the **observations** in a reproducible way, set a \"random seed\"._ \n",
    "> \n",
    "> - _A single **observation** consists of all the measurements made on a single entity, typically corresponding to a row of a data frame. In **Machine Learning**, a collection of values of interest measured for a single entity is called a \"vector\" and so the **observation** is referred to as a **vector**_.\n",
    ">    \n",
    "> _Asking the ChatBot about \"DecisionTreeClassifier .fit(...)\" can be helpful here..._\n",
    "> \n",
    "> _Should you use the \"ab_reduced_noNaN\" data, or the \"ab_reduced_noNaN_train\" data, or the \"ab_reduced_noNaN_test\" data to initially fit the classification tree? Why?_\n",
    ">    \n",
    "> _You can visualize your decision tree using the `tree.plot_tree(clf)` function shown in the `sklearn` documentation [here](\n",
    "https://scikit-learn.org/stable/auto_examples/tree/plot_unveil_tree_structure.html#what-is-the-values-array-used-here) and [here](https://scikit-learn.org/stable/modules/tree.html); but, to make it more immediately readible it might be better to use `graphviz`, which is demonstrated in the `sklearn` documentation [here](https://scikit-learn.org/stable/modules/tree.html#alternative-ways-to-export-trees)_ \n",
    ">    \n",
    "> ---\n",
    "> \n",
    "> _Don't forget to ask for summaries of all your different ChatBot sessions and organize and paste these into your homework notebook (including link(s) to chat log histories if you're using ChatBot); but, if you're using the STA130 custom NBLM ChatBot, you'll only be able to ask for summaries, of course!_ \n",
    "    \n",
    "</details>"
   ]
  },
  {
   "cell_type": "markdown",
   "id": "a541a3ed",
   "metadata": {},
   "source": [
    "### Step 1: Splitting the Dataset\n",
    "\n",
    "train_test_split: A common method from scikit-learn to split data into training and testing sets. This ensures that the data is randomly divided while maintaining reproducibility with a random seed.\n",
    "Purpose: To train the model on one set (80%) and evaluate its performance on another (20%) to prevent overfitting and assess generalization.\n",
    "\n",
    "### Step 2: Training the Model\n",
    "\n",
    "Target (y): The column Hard_or_Paper is transformed into a binary variable (H) using pd.get_dummies. The new variable will have a value of 1 for hardcover books and 0 for paperback books.\n",
    "Feature (X): The List Price column will be used as the only predictor.\n",
    "Model: A DecisionTreeClassifier with a maximum depth of 2. This controls the complexity of the tree and prevents overfitting.\n",
    "Training: The .fit() method trains the model using X_train and y_train.\n",
    "Prediction Visualization: The tree.plot_tree method visualizes the decision tree, showing how the model splits the List Price range to predict the book type."
   ]
  },
  {
   "cell_type": "code",
   "execution_count": 10,
   "id": "cb0140da",
   "metadata": {},
   "outputs": [
    {
     "data": {
      "text/plain": [
       "(255, 64)"
      ]
     },
     "execution_count": 10,
     "metadata": {},
     "output_type": "execute_result"
    },
    {
     "data": {
      "image/png": "[encoded data removed]",
      "text/plain": [
       "<Figure size 640x480 with 1 Axes>"
      ]
     },
     "metadata": {},
     "output_type": "display_data"
    }
   ],
   "source": [
    "from sklearn.model_selection import train_test_split\n",
    "from sklearn.tree import DecisionTreeClassifier, plot_tree\n",
    "\n",
    "# Ensure data preparation is completed first\n",
    "# Using preprocessed data (ab_reduced_noNaN)\n",
    "y = pd.get_dummies(ab_reduced_noNaN[\"Hard_or_Paper\"])['H']\n",
    "X = ab_reduced_noNaN[['List Price']]\n",
    "\n",
    "# Split the data into an 80/20 train-test split\n",
    "X_train, X_test, y_train, y_test = train_test_split(X, y, test_size=0.2, random_state=42)\n",
    "\n",
    "# Report the number of observations in each set\n",
    "train_size = len(X_train)\n",
    "test_size = len(X_test)\n",
    "\n",
    "# Train a DecisionTreeClassifier with max_depth=2\n",
    "clf = DecisionTreeClassifier(max_depth=2, random_state=42)\n",
    "clf.fit(X_train, y_train)\n",
    "\n",
    "# Visualize the fitted decision tree\n",
    "tree_plot = plot_tree(clf, feature_names=[\"List Price\"], class_names=[\"Paperback\", \"Hardcover\"], filled=True)\n",
    "\n",
    "train_size, test_size"
   ]
  },
  {
   "cell_type": "markdown",
   "id": "f2ac0e5b",
   "metadata": {},
   "source": [
    "<details class=\"details-example\"><summary style=\"color:blue\"><u>Continue now...?</u></summary>\n",
    "\n",
    "### Pre-lecture VS Post-lecture HW\n",
    "\n",
    "Feel free to work on the \"Post-lecture\" HW below if you're making good progress and want to continue: for **HW 08** this could be reasonable because, as you'll see, the process of creating and using **classification decision trees** is quite similar to the process for creating and using **multiple linear regression** models. There are differences of course, such as how there is **coefficient hypothesis testing** in **multiple linear regression** and **confusion matrices** in **classification decision trees**, and so on. But you would very likely be able to leverage the silarities to make a lot of progress with **classification decision trees** based on your experience with **multiple linear regression**.\n",
    "    \n",
    "*The benefits of continue would are that (a) Consolidate the knowledge already learned and integrate it comprehensively. (b) Let you build experience interacting with ChatBots (and understand their strengths and limitations in this regard)... it's good to have sense of when using a ChatBot is the best way to figure something out, or if another approach (such as course provided resources or a plain old websearch for the right resourse) would be more effective*\n",
    "    \n",
    "</details>    "
   ]
  },
  {
   "cell_type": "markdown",
   "id": "d75e7d3e",
   "metadata": {},
   "source": [
    "## \"Post-lecture\" HW [*submission along with \"Pre-lecture\" HW is due prior to next TUT*]\n"
   ]
  },
  {
   "cell_type": "markdown",
   "id": "98b3ce1f",
   "metadata": {},
   "source": [
    "### 5. Repeat the previous problem but this time visualize the *classification decision tree* based on the following specifications below; then explain generally how predictions are made for the *clf2* model<br>\n",
    "\n",
    "1. `X = ab_reduced_noNaN[['NumPages', 'Thick', 'List Price']]`\n",
    "2. `max_depth` set to `4`\n",
    "\n",
    "<details class=\"details-example\"><summary style=\"color:blue\"><u>Further Guidance</u></summary>\n",
    "\n",
    "> - _Use the same **train/test split** dataset used so far_\n",
    "> - _Train the **classification decision tree** `clf2` using **predictor variables** `NumPages`, `Thick` and `List Price`_ \n",
    "> - _Again **predict** whether or not a book is hard cover book or a paper back book_\n",
    "> - _You can visualize your decision tree using the `tree.plot_tree(clf)` function shown in the `sklearn` documentation [here](\n",
    "https://scikit-learn.org/stable/auto_examples/tree/plot_unveil_tree_structure.html#what-is-the-values-array-used-here) and [here](https://scikit-learn.org/stable/modules/tree.html); but, to make it more immediately readible it might be better to use `graphviz`, which is demonstrated in the `sklearn` documentation [here](https://scikit-learn.org/stable/modules/tree.html#alternative-ways-to-export-trees)_\n",
    ">\n",
    "> _If you are interested in how to find the best `max_depth` for a tree, ask ChatBot about \"GridSearchCV\"_\n",
    ">    \n",
    "> ---\n",
    "> \n",
    "> _Don't forget to ask for summaries of all your different ChatBot sessions and organize and paste these into your homework notebook (including link(s) to chat log histories if you're using ChatBot); but, if you're using the STA130 custom NBLM ChatBot, you'll only be able to ask for summaries, of course!_ \n",
    "    \n",
    "</details>"
   ]
  },
  {
   "cell_type": "markdown",
   "id": "8925c081",
   "metadata": {},
   "source": [
    "To address this problem, we will:\n",
    "\n",
    "Use the same train-test split as before.\n",
    "\n",
    "Train a new decision tree classifier (clf2) using the variables NumPages, Thick, and List Price to predict whether a book is hardcover or paperback.\n",
    "\n",
    "Set the maximum depth of the tree to 4 to ensure we capture sufficient complexity without overfitting.\n",
    "\n",
    "Visualize the decision tree, initially using tree.plot_tree and optionally using graphviz for a clearer representation."
   ]
  },
  {
   "cell_type": "code",
   "execution_count": 11,
   "id": "4506c641",
   "metadata": {},
   "outputs": [
    {
     "data": {
      "image/png": "[encoded data removed]",
      "text/plain": [
       "<Figure size 640x480 with 1 Axes>"
      ]
     },
     "metadata": {},
     "output_type": "display_data"
    }
   ],
   "source": [
    "# Train a new DecisionTreeClassifier (clf2) with max_depth=4 and multiple features\n",
    "X_multi = ab_reduced_noNaN[['NumPages', 'Thick', 'List Price']]\n",
    "X_train_multi, X_test_multi, y_train_multi, y_test_multi = train_test_split(\n",
    "    X_multi, y, test_size=0.2, random_state=42\n",
    ")\n",
    "\n",
    "clf2 = DecisionTreeClassifier(max_depth=4, random_state=42)\n",
    "clf2.fit(X_train_multi, y_train_multi)\n",
    "\n",
    "# Visualize the decision tree using plot_tree\n",
    "tree_plot_multi = plot_tree(\n",
    "    clf2, \n",
    "    feature_names=['NumPages', 'Thick', 'List Price'], \n",
    "    class_names=['Paperback', 'Hardcover'], \n",
    "    filled=True\n",
    ")"
   ]
  },
  {
   "cell_type": "markdown",
   "id": "d889386a",
   "metadata": {},
   "source": [
    "### 6. Use previously created *ab_reduced_noNaN_test* to create confusion matrices for *clf* and *clf2*. Report the sensitivity, specificity and accuracy for each of the models<br>\n",
    "\n",
    "<details class=\"details-example\"><summary style=\"color:blue\"><u>Further Guidance</u></summary>\n",
    "\n",
    "> _Hopefully you immediately thought to ask ChatBot to help you with this problem, but if you did you should take time to make sure you're clear about the key components of what the ChatBot is providing for you. You might want to know_\n",
    "> - _what is a \"positive\" and what is a \"negative\"_\n",
    "> - _how to read an `sklearn` confusion matrix_\n",
    "> - _what leads to TP, TN, FP, and FN_\n",
    "> - _whether `y_true` or `y_pred` go first in the `confusion_matrix` function_   \n",
    ">\n",
    "> _Have the visualizations you make use decimal numbers with three signifiant digits, such as `0.123` (and not as percentages like `12.3%`), probably based on `np.round()`_\n",
    ">    \n",
    "> ---\n",
    "> \n",
    "> _Don't forget to ask for summaries of all your different ChatBot sessions and organize and paste these into your homework notebook (including link(s) to chat log histories if you're using ChatBot); but, if you're using the STA130 custom NBLM ChatBot, you'll only be able to ask for summaries, of course!_ \n",
    "       \n",
    "</details>"
   ]
  },
  {
   "cell_type": "markdown",
   "id": "91afbb2a",
   "metadata": {},
   "source": [
    "# Clarifying Key Concepts\n",
    "### 1. What is a \"positive\" and what is a \"negative\"?\n",
    "\n",
    "Positive (1): A book is a hardcover.\n",
    "Negative (0): A book is a paperback.\n",
    "\n",
    "### 2. Components of a confusion matrix:\n",
    "\n",
    "True Positive (TP): The model correctly predicts hardcover (1).\n",
    "True Negative (TN): The model correctly predicts paperback (0).\n",
    "False Positive (FP): The model predicts hardcover (1) when the book is actually paperback (0).\n",
    "False Negative (FN): The model predicts paperback (0) when the book is actually hardcover (1).\n",
    "\n",
    "### 3. Order of inputs in confusion_matrix:\n",
    "\n",
    "y_true: Actual labels.\n",
    "y_pred: Predicted labels.\n",
    "\n",
    "### 4. Metrics:\n",
    "\n",
    "Sensitivity (Recall): TPR=TP/TP+FN\n",
    "\n",
    "Measures the model's ability to correctly identify hardcovers.\n",
    "\n",
    "Specificity: TNR=TN/TN+FP\n",
    " \n",
    "Measures the model's ability to correctly identify paperbacks.\n",
    "\n",
    "Accuracy: TP+TN/TP+TN+FP+FN\n",
    "\n",
    "Measures overall correctness.\n"
   ]
  },
  {
   "cell_type": "code",
   "execution_count": 4,
   "id": "2f96ca1f",
   "metadata": {},
   "outputs": [],
   "source": [
    "# Verify the existence of test datasets and fitted models before proceeding\n",
    "try:\n",
    "    # Predictions for both models\n",
    "    y_pred_clf = clf.predict(X_test)\n",
    "    y_pred_clf2 = clf2.predict(X_test_multi)\n",
    "\n",
    "    # Confusion matrices\n",
    "    cm_clf = confusion_matrix(y_test, y_pred_clf)\n",
    "    cm_clf2 = confusion_matrix(y_test_multi, y_pred_clf2)\n",
    "\n",
    "    # Extract values for sensitivity, specificity, and accuracy for clf\n",
    "    TP_clf, FN_clf = cm_clf[1, 1], cm_clf[1, 0]\n",
    "    TN_clf, FP_clf = cm_clf[0, 0], cm_clf[0, 1]\n",
    "    sensitivity_clf = TP_clf / (TP_clf + FN_clf)\n",
    "    specificity_clf = TN_clf / (TN_clf + FP_clf)\n",
    "    accuracy_clf = (TP_clf + TN_clf) / cm_clf.sum()\n",
    "\n",
    "    # Extract values for sensitivity, specificity, and accuracy for clf2\n",
    "    TP_clf2, FN_clf2 = cm_clf2[1, 1], cm_clf2[1, 0]\n",
    "    TN_clf2, FP_clf2 = cm_clf2[0, 0], cm_clf2[0, 1]\n",
    "    sensitivity_clf2 = TP_clf2 / (TP_clf2 + FN_clf2)\n",
    "    specificity_clf2 = TN_clf2 / (TN_clf2 + FP_clf2)\n",
    "    accuracy_clf2 = (TP_clf2 + TN_clf2) / cm_clf2.sum()\n",
    "\n",
    "    # Round results to three decimal places\n",
    "    metrics_clf = {\n",
    "        \"sensitivity\": round(sensitivity_clf, 3),\n",
    "        \"specificity\": round(specificity_clf, 3),\n",
    "        \"accuracy\": round(accuracy_clf, 3),\n",
    "    }\n",
    "    metrics_clf2 = {\n",
    "        \"sensitivity\": round(sensitivity_clf2, 3),\n",
    "        \"specificity\": round(specificity_clf2, 3),\n",
    "        \"accuracy\": round(accuracy_clf2, 3),\n",
    "    }\n",
    "\n",
    "    metrics_clf, metrics_clf2\n",
    "\n",
    "except NameError as e:\n",
    "    str(e)"
   ]
  },
  {
   "cell_type": "markdown",
   "id": "c91061d6",
   "metadata": {},
   "source": [
    "# SUMMARY\n",
    "\n",
    "\n",
    "### Exploratory Data Analysis (EDA):\n",
    "Began working on the Amazon books dataset, focusing on preprocessing:\n",
    "Removed irrelevant columns (Weight_oz, Width, Height).\n",
    "Dropped rows with NaN values.\n",
    "Converted Pub year and NumPages to integers and Hard_or_Paper to a categorical variable.\n",
    "\n",
    "### Train-Test Split:\n",
    "Attempted to create an 80/20 split into training and test sets.\n",
    "\n",
    "### Decision Tree Classifier (clf):\n",
    "Trained a DecisionTreeClassifier using only List Price to predict hardcover (H) or paperback (P).\n",
    "Visualized the decision tree using plot_tree.\n",
    "\n",
    "### Decision Tree Classifier (clf2):\n",
    "Planned to train a second classifier using NumPages, Thick, and List Price with a max depth of 4.\n",
    "Aimed to visualize the decision tree with plot_tree or graphviz.\n",
    "\n",
    "### Confusion Matrix and Metrics:\n",
    "Designed to evaluate both models (clf and clf2) on the test set.\n",
    "Planned to calculate sensitivity, specificity, and accuracy, ensuring metrics were reported to three decimal places.\n",
    "\n",
    "### Issues Encountered:\n",
    "Unable to fully execute Python-based analysis due to a lack of the preprocessed dataset (ab_reduced_noNaN).\n",
    "Suggested reloading or uploading the dataset to proceed.\n"
   ]
  },
  {
   "cell_type": "markdown",
   "id": "35d1698f",
   "metadata": {},
   "source": [
    "https://chatgpt.com/share/673e988b-83c8-8009-a232-27dd0bd911b5"
   ]
  },
  {
   "cell_type": "markdown",
   "id": "72576c25",
   "metadata": {},
   "source": [
    "### 7. Explain in three to four sentences what is causing the differences between the following two confusion matrices below, and why the two confusion matrices above (for *clf* and *clf2*) are better<br>\n",
    "\n",
    "```python\n",
    "ConfusionMatrixDisplay(\n",
    "    confusion_matrix(ab_reduced_noNaN_train.life_exp_good, \n",
    "                     clf.predict(ab_reduced_noNaN_train[['List Price']]), \n",
    "                     labels=[0, 1]), display_labels=[\"Paper\",\"Hard\"]).plot()\n",
    "ConfusionMatrixDisplay(\n",
    "    confusion_matrix(ab_reduced_noNaN_train.life_exp_good, \n",
    "                     clf.predict(\n",
    "                         ab_reduced_noNaN_train[['NumPages','Thick','List Price']]), \n",
    "                     labels=[0, 1]), display_labels=[\"Paper\",\"Hard\"]).plot()\n",
    "```\n",
    "\n",
    "\n",
    "<details class=\"details-example\"><summary style=\"color:blue\"><u>Further Guidance</u></summary>\n",
    "    \n",
    "> _Don't forget to ask for summaries of all your different ChatBot sessions and organize and paste these into your homework notebook (including link(s) to chat log histories if you're using ChatBot); but, if you're using the STA130 custom NBLM ChatBot, you'll only be able to ask for summaries, of course!_ \n",
    "    \n",
    "</details>"
   ]
  },
  {
   "cell_type": "markdown",
   "id": "41d00d70",
   "metadata": {},
   "source": [
    "1. The differences between the two confusion matrices arise from the features used in the classification model. The first confusion matrix uses only the feature List Price, which limits the model's ability to capture patterns in the data, likely resulting in lower accuracy and less balanced performance (e.g., higher false positives or false negatives). In contrast, the second confusion matrix includes three features—NumPages, Thick, and List Price—providing the model with more information to better distinguish between classes, leading to improved predictions.\n",
    "\n",
    "The confusion matrices for clf and clf2 (referred to as \"above\") are likely better because these classifiers might be trained with optimized feature sets or models, yielding higher accuracy, balanced predictions across classes, and lower error rates. This suggests that more informative features and well-tuned models improve classification performance.\n",
    "\n",
    "2. "
   ]
  },
  {
   "cell_type": "markdown",
   "id": "526939c2",
   "metadata": {},
   "source": [
    "\n",
    "### 8. Read the paragraphs in *Further Guidance* and ask a ChatBot how to visualize *feature Importances* available for *scikit-learn* *classification decision trees*; do so for *clf2*;  and use *.feature_names_in_* corresponding to *.feature_importances_* to report which *predictor variable* is most important for making predictions according to *clf2*<br>\n",
    "\n",
    "\n",
    "<details class=\"details-example\"><summary style=\"color:blue\"><u>Further Guidance</u></summary>\n",
    "  \n",
    "> The way a **classification decision tree** is fit is that at each step in the construction process of adding a new **decision node splitting rule** to the current **tree structure**, all possible **decision rules** for all possible **predictor variables** are considered, and the combination that improves the **prediction** the most (as measured by the criterion of either \"Gini impurity\" or \"Shannon entropy\") and in accordance with the rules of the decision tree (such as the `max_depth` argument) is added to the **classification decision tree**.  Thus overall \"criterion\" noted above improves with each new **decision node splitting rule**, so the improvement can thus be tracked and the improvement contributions attributed to the **feature** upon which the **decision node splitting rule** is based.  This means the relative contribution of each **predictor variable** to the overall explanatory power of the model can be calculated, and this is what the `.feature_importances_` attribute does. \n",
    ">\n",
    "> Compared to the simplicity of understanding how different **covariates** contribute towards the final **predicted values** of **multiple linear regression models** (by just reading off the equation to see how predictions work), the the complexity of how all the different **features** interact and combine to together to create the final **predictions** from **classification decision trees** can be staggering. But the so-called **feature importance** heuristics allows us to judge how relatively important the overall contributions from different features are in the final decision tree predictions. Now we just need to be sure we're not **overfitting** our **classification decision trees** since they can be so **complex**. Fortunately, the \"GridSearchCV\" methodology mentioned in regards to finding the best `max_depth` setting for a tree is going to provide a general answer to the challenge of complexity and **overfitting** in **machine learning models** that is not too hard to understand (and which you might already have some guesses or a hunch about). \n",
    "> \n",
    "> ---\n",
    "> \n",
    "> _Don't forget to ask for summaries of all your different ChatBot sessions and organize and paste these into your homework notebook (including link(s) to chat log histories if you're using ChatBot); but, if you're using the STA130 custom NBLM ChatBot, you'll only be able to ask for summaries, of course!_ \n",
    "       \n",
    "</details>"
   ]
  },
  {
   "cell_type": "code",
   "execution_count": null,
   "id": "f4579675",
   "metadata": {},
   "outputs": [],
   "source": [
    "import matplotlib.pyplot as plt\n",
    "import numpy as np\n",
    "\n",
    "# Assuming clf2 is a fitted decision tree classifier\n",
    "feature_importances = clf2.feature_importances_\n",
    "feature_names = clf2.feature_names_in_\n",
    "\n",
    "# Sort features by importance\n",
    "sorted_idx = np.argsort(feature_importances)[::-1]\n",
    "\n",
    "plt.figure(figsize=(10, 6))\n",
    "plt.bar(range(len(feature_importances)), feature_importances[sorted_idx], align=\"center\")\n",
    "plt.xticks(range(len(feature_importances)), np.array(feature_names)[sorted_idx], rotation=45)\n",
    "plt.title(\"Feature Importances for clf2\")\n",
    "plt.xlabel(\"Feature\")\n",
    "plt.ylabel(\"Importance Score\")\n",
    "plt.tight_layout()\n",
    "plt.show()\n",
    "\n",
    "# Identify the most important feature\n",
    "most_important_feature = feature_names[sorted_idx[0]]\n",
    "print(f\"The most important feature is: {most_important_feature}\")"
   ]
  },
  {
   "cell_type": "markdown",
   "id": "3eb7d92c",
   "metadata": {},
   "source": [
    "### 9. Describe the differences of interpreting coefficients in linear model regression versus feature importances in decision trees in two to three sentences<br>\n",
    "\n",
    "<details class=\"details-example\"><summary style=\"color:blue\"><u>Further Guidance</u></summary>\n",
    "\n",
    "> _Linear model regression predicts continuous real-valued averages for a given configuration of covariate values (or, feature values, if we're using machine learning terminology instead of statistical terminology), whereas a binary classification model such as a binary classification tree predicts 0/1 (\"yes\" or \"no\") outcomes (and gives the probability of a 1 \"yes\" (or \"success\") outcome from which a 1/0 \"yes\"/\"no\" prediction can be made; but, this is not what is being asked here. This question is asking \"what's the difference in the way we can interpret and understand how the predictor variables influence the predictions in linear model regression based on the coefficients versus in binary decision trees based on the Feature Importances?\"_\n",
    ">    \n",
    "> ---\n",
    "> \n",
    "> _Don't forget to ask for summaries of all your different ChatBot sessions and organize and paste these into your homework notebook (including link(s) to chat log histories if you're using ChatBot); but, if you're using the STA130 custom NBLM ChatBot, you'll only be able to ask for summaries, of course!_ \n",
    "    \n",
    "</details>"
   ]
  },
  {
   "cell_type": "markdown",
   "id": "949b9cbf",
   "metadata": {},
   "source": [
    "In linear regression, coefficients directly represent the relationship between each predictor variable and the target, showing how a one-unit change in a predictor affects the outcome, holding all else constant. In decision trees, feature importances indicate the relative contribution of each predictor to improving the model's prediction accuracy but do not specify the direction or magnitude of their effects on the target. Unlike the straightforward interpretability of regression coefficients, feature importances in decision trees are less intuitive due to interactions and hierarchical splits among features."
   ]
  },
  {
   "cell_type": "markdown",
   "id": "6db41ae3",
   "metadata": {},
   "source": [
    "https://chatgpt.com/share/673e9a44-d890-8009-a4b6-bd07895e8505"
   ]
  },
  {
   "cell_type": "markdown",
   "id": "bf6fb0cb",
   "metadata": {},
   "source": [
    "### 10. Have you reviewed the course wiki-textbook and interacted with a ChatBot (or, if that wasn't sufficient, real people in the course piazza discussion board or TA office hours) to help you understand all the material in the tutorial and lecture that you didn't quite follow when you first saw it?<br>\n",
    "  \n",
    "<details class=\"details-example\"><summary style=\"color:blue\"><u>Further Guidance</u></summary>\n",
    "\n",
    ">  _Here is the link of [wiki-textbook](https://github.com/pointOfive/stat130chat130/wiki) in case it gets lost among all the information you need to keep track of_  : )\n",
    "> \n",
    "> _Just answering \"Yes\" or \"No\" or \"Somewhat\" or \"Mostly\" or whatever here is fine as this question isn't a part of the rubric; but, the midterm and final exams may ask questions that are based on the tutorial and lecture materials; and, your own skills will be limited by your familiarity with these materials (which will determine your ability to actually do actual things effectively with these skills... like the course project...)_\n",
    "    \n",
    "</details>"
   ]
  },
  {
   "cell_type": "markdown",
   "id": "23728c41",
   "metadata": {},
   "source": [
    "yes"
   ]
  },
  {
   "cell_type": "markdown",
   "id": "d2436778",
   "metadata": {},
   "source": [
    "# Recommended Additional Useful Activities [Optional]\n",
    "\n",
    "The \"Ethical Profesionalism Considerations\" and \"Current Course Project Capability Level\" sections below **are not a part of the required homework assignment**; rather, they are regular weekly guides covering (a) relevant considerations regarding professional and ethical conduct, and (b) the analysis steps for the STA130 course project that are feasible at the current stage of the course \n",
    "\n",
    "<br>\n",
    "<details class=\"details-example\"><summary style=\"color:blue\"><u>Ethical Professionalism Considerations</u></summary>\n",
    "\n",
    "### Ethical Professionalism Considerations\n",
    "\n",
    "- Discuss with a ChatBox about consent and data collection for training models.\n",
    "    - Discuss the ethics of data collection for training decision trees, particularly the need for informed consent when personal data is involved.\n",
    "    - Evaluate the role of regulatory frameworks in ensuring ethical data collection practices.\n",
    "- Discuss with a ChatBox about accountability in automated decision-making.\n",
    "    - Address the challenges of holding systems and their developers accountable when decision trees lead to adverse outcomes.\n",
    "    - Explore legal and ethical frameworks for responsibility when automated decisions go wrong.\n",
    "- Discuss with a ChatBox about transparency and explainability in classification models.\n",
    "    - Discuss the importance of model transparency, particularly when using decision trees in sectors like healthcare or criminal justice.\n",
    "    - Explore methods to enhance the explainability of decision trees, such as visualization techniques and simplified decision paths.\n",
    "- Discuss with a ChatBox about impact of misclassifications in critical applications.\n",
    "    - Examine the consequences of false positives and false negatives in decision tree outcomes, using confusion matrices to highlight these issues.\n",
    "    - Discuss ethical responsibilities when deploying classifiers in high-stakes fields like medicine or law enforcement.\n",
    "    \n",
    "</details>    \n",
    "\n",
    "<details class=\"details-example\"><summary style=\"color:blue\"><u>Current Course Project Capability Level</u></summary>\n",
    "\n",
    "**Remember to abide by the [data use agreement](https://static1.squarespace.com/static/60283c2e174c122f8ebe0f39/t/6239c284d610f76fed5a2e69/1647952517436/Data+Use+Agreement+for+the+Canadian+Social+Connection+Survey.pdf) at all times.**\n",
    "\n",
    "Information about the course project is available on the course github repo [here](https://github.com/pointOfive/stat130chat130/tree/main/CP), including a draft [course project specfication](https://github.com/pointOfive/stat130chat130/blob/main/CP/STA130F23_course_project_specification.ipynb) (subject to change). \n",
    "- The Week 01 HW introduced [STA130F24_CourseProject.ipynb](https://github.com/pointOfive/stat130chat130/blob/main/CP/STA130F24_CourseProject.ipynb), and the [available variables](https://drive.google.com/file/d/1ISVymGn-WR1lcRs4psIym2N3or5onNBi/view). \n",
    "- Please do not download the [data](https://drive.google.com/file/d/1mbUQlMTrNYA7Ly5eImVRBn16Ehy9Lggo/view) accessible at the bottom of the [CSCS](https://casch.org/cscs) webpage (or the course github repo) multiple times.\n",
    "    \n",
    "\n",
    "> ### NEW DEVELOPMENT<br>New Abilities Achieved and New Levels Unlocked!!!    \n",
    "> \n",
    "> And with that, ALL LEVELS unlocked! \n",
    ">\n",
    "> CONGRATS, YOU LEGENDS! 🎉\n",
    ">\n",
    "> You’ve battled through the wild jungles of deadlines, defeated the mighty Homework Beasts, and climbed the towering Mount Procrastination. And guess what? YOU MADE IT TO THE TOP! 🏔️\n",
    "> \n",
    "> Take a bow, grab a treat, and enjoy the sweet, sweet taste of freedom(**just for now , because you still have to finish the project! But you are almost done!**). You’ve earned it. Now go out there and celebrate like the absolute rockstars you are! 🌟💪\n",
    ">\n",
    "\n",
    "    \n",
    "### Current Course Project Capability Level    \n",
    "    \n",
    "I mean, the **course project** is basically, like, essentially now.\n",
    "    \n",
    "- Will you be doing any **classification decision trees** stuff for the course project?\n",
    "    - You could consider making some [partial dependency plots](https://scikit-learn.org/stable/modules/partial_dependence.html) if so...\n",
    "    - those might provide an interesting analysis in addition to **tree structure** visualizations, **confusion matrices**, **feature importances**. and the standard \"in-sample versus out-of-sample\" **train-test validation** analysis that would be expected in a **machine learning context**\n",
    "    \n",
    "- You could see if there are any interesting columns that might make for a potentially interesting **classification decision tree** analysis\n",
    "    - You wouldn't have to though...\n",
    "    - But if you did you'd want to be able to articulate and explain why what you're doing with **classification decision trees** is appropriate and enlightening\n",
    "\n",
    "- Anyway, I guess that just leaves reviewing all the statistical techniques covered in STA130, and considering integrating them holistically into your project!\n",
    "    \n",
    "</details>        "
   ]
  },
  {
   "cell_type": "code",
   "execution_count": null,
   "id": "524759d7",
   "metadata": {},
   "outputs": [],
   "source": []
  }
 ],
 "metadata": {
  "kernelspec": {
   "display_name": "Python 3 (ipykernel)",
   "language": "python",
   "name": "python3"
  },
  "language_info": {
   "codemirror_mode": {
    "name": "ipython",
    "version": 3
   },
   "file_extension": ".py",
   "mimetype": "text/x-python",
   "name": "python",
   "nbconvert_exporter": "python",
   "pygments_lexer": "ipython3",
   "version": "3.11.6"
  }
 },
 "nbformat": 4,
 "nbformat_minor": 5
}
